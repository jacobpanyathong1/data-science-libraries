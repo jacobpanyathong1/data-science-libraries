{
 "cells": [
  {
   "cell_type": "code",
   "execution_count": 1,
   "id": "c44c6270",
   "metadata": {},
   "outputs": [],
   "source": [
    "import numpy as np"
   ]
  },
  {
   "cell_type": "code",
   "execution_count": 2,
   "id": "85e205a5",
   "metadata": {},
   "outputs": [],
   "source": [
    "a = np.array([4, 10, 12, 23, -2, -1, 0, 0, 0, -6, 3, -7])"
   ]
  },
  {
   "cell_type": "code",
   "execution_count": 3,
   "id": "631618c1",
   "metadata": {},
   "outputs": [],
   "source": [
    "count_neg_values = len(a[a < 0]) #count of negative values"
   ]
  },
  {
   "cell_type": "code",
   "execution_count": 4,
   "id": "c6e4917d",
   "metadata": {},
   "outputs": [
    {
     "name": "stdout",
     "output_type": "stream",
     "text": [
      "4\n"
     ]
    }
   ],
   "source": [
    "print(count_neg_values)"
   ]
  },
  {
   "cell_type": "code",
   "execution_count": 5,
   "id": "c7517e18",
   "metadata": {},
   "outputs": [],
   "source": [
    "count_of_pos_values = len(a[a > 0 ]) #count of positive values"
   ]
  },
  {
   "cell_type": "code",
   "execution_count": 6,
   "id": "d6232db9",
   "metadata": {},
   "outputs": [
    {
     "name": "stdout",
     "output_type": "stream",
     "text": [
      "5\n"
     ]
    }
   ],
   "source": [
    "print(count_of_pos_values)"
   ]
  },
  {
   "cell_type": "code",
   "execution_count": 7,
   "id": "0d42f10e",
   "metadata": {},
   "outputs": [],
   "source": [
    "count_pos_evens = len(a[(a > 0) & (a % 2 == 0)]) #count of positive even values"
   ]
  },
  {
   "cell_type": "code",
   "execution_count": 8,
   "id": "27b592fc",
   "metadata": {},
   "outputs": [
    {
     "name": "stdout",
     "output_type": "stream",
     "text": [
      "3\n"
     ]
    }
   ],
   "source": [
    "print(count_pos_evens)"
   ]
  },
  {
   "cell_type": "code",
   "execution_count": 9,
   "id": "778d898d",
   "metadata": {},
   "outputs": [
    {
     "data": {
      "text/plain": [
       "array([ 7, 13, 15, 26,  1,  2,  3,  3,  3, -3,  6, -4])"
      ]
     },
     "execution_count": 9,
     "metadata": {},
     "output_type": "execute_result"
    }
   ],
   "source": [
    "new_lst = np.array([i + 3 for i in a])        # a + 3 for each value in a\n",
    "new_lst"
   ]
  },
  {
   "cell_type": "code",
   "execution_count": 10,
   "id": "61f22315",
   "metadata": {},
   "outputs": [],
   "source": [
    "new_lst_plus_values = len(new_lst[new_lst > 0])    # count of new positive values"
   ]
  },
  {
   "cell_type": "code",
   "execution_count": 11,
   "id": "c15f025f",
   "metadata": {},
   "outputs": [
    {
     "name": "stdout",
     "output_type": "stream",
     "text": [
      "10\n"
     ]
    }
   ],
   "source": [
    "print(new_lst_plus_values)"
   ]
  },
  {
   "cell_type": "code",
   "execution_count": 12,
   "id": "f9764869",
   "metadata": {},
   "outputs": [
    {
     "data": {
      "text/plain": [
       "array([ 4, 10, 12, 23, -2, -1,  0,  0,  0, -6,  3, -7])"
      ]
     },
     "execution_count": 12,
     "metadata": {},
     "output_type": "execute_result"
    }
   ],
   "source": [
    "a"
   ]
  },
  {
   "cell_type": "code",
   "execution_count": 13,
   "id": "53827fea",
   "metadata": {},
   "outputs": [],
   "source": [
    "sq = np.where(a ,a ** 2, a) # squared values of new list"
   ]
  },
  {
   "cell_type": "code",
   "execution_count": 14,
   "id": "763913fe",
   "metadata": {},
   "outputs": [
    {
     "data": {
      "text/plain": [
       "array([ 16, 100, 144, 529,   4,   1,   0,   0,   0,  36,   9,  49])"
      ]
     },
     "execution_count": 14,
     "metadata": {},
     "output_type": "execute_result"
    }
   ],
   "source": [
    "sq"
   ]
  },
  {
   "cell_type": "code",
   "execution_count": 17,
   "id": "e088548e",
   "metadata": {},
   "outputs": [],
   "source": [
    "mean_sq = sq.mean()   #squared mean"
   ]
  },
  {
   "cell_type": "code",
   "execution_count": null,
   "id": "baa3ce38",
   "metadata": {},
   "outputs": [],
   "source": [
    "mean_sq"
   ]
  },
  {
   "cell_type": "code",
   "execution_count": 21,
   "id": "3ace5406",
   "metadata": {},
   "outputs": [],
   "source": [
    "stdev = sq.std()          #standard deviation of squared values"
   ]
  },
  {
   "cell_type": "code",
   "execution_count": 38,
   "id": "f58e4078",
   "metadata": {},
   "outputs": [
    {
     "data": {
      "text/plain": [
       "144.0243035046516"
      ]
     },
     "execution_count": 38,
     "metadata": {},
     "output_type": "execute_result"
    }
   ],
   "source": [
    "stdev"
   ]
  },
  {
   "cell_type": "code",
   "execution_count": null,
   "id": "8be3b70a",
   "metadata": {},
   "outputs": [],
   "source": [
    "mean = 0\n",
    "mean - stdev ,mean, stdev,\n"
   ]
  },
  {
   "cell_type": "code",
   "execution_count": 30,
   "id": "b6a976db",
   "metadata": {},
   "outputs": [
    {
     "data": {
      "text/plain": [
       "array([ 4, 10, 12, 23, -2, -1,  0,  0,  0, -6,  3, -7])"
      ]
     },
     "execution_count": 30,
     "metadata": {},
     "output_type": "execute_result"
    }
   ],
   "source": [
    "a"
   ]
  },
  {
   "cell_type": "code",
   "execution_count": null,
   "id": "4055cf6b",
   "metadata": {},
   "outputs": [],
   "source": [
    "a.mean()"
   ]
  },
  {
   "cell_type": "code",
   "execution_count": 31,
   "id": "000acb20",
   "metadata": {},
   "outputs": [
    {
     "data": {
      "text/plain": [
       "array([  1.,   7.,   9.,  20.,  -5.,  -4.,  -3.,  -3.,  -3.,  -9.,   0.,\n",
       "       -10.])"
      ]
     },
     "execution_count": 31,
     "metadata": {},
     "output_type": "execute_result"
    }
   ],
   "source": [
    "center_a = a-a.mean()         #centered"
   ]
  },
  {
   "cell_type": "code",
   "execution_count": 32,
   "id": "e2db3397",
   "metadata": {},
   "outputs": [
    {
     "data": {
      "text/plain": [
       "0.0"
      ]
     },
     "execution_count": 32,
     "metadata": {},
     "output_type": "execute_result"
    }
   ],
   "source": [
    "center_a.mean()"
   ]
  },
  {
   "cell_type": "code",
   "execution_count": 47,
   "id": "9e4f8ddf",
   "metadata": {},
   "outputs": [],
   "source": [
    "z_score = center_a / a.std()    # zscore formula"
   ]
  },
  {
   "cell_type": "code",
   "execution_count": 48,
   "id": "bd3e8969",
   "metadata": {},
   "outputs": [
    {
     "name": "stdout",
     "output_type": "stream",
     "text": [
      "[ 0.12403473  0.86824314  1.11631261  2.48069469 -0.62017367 -0.49613894\n",
      " -0.3721042  -0.3721042  -0.3721042  -1.11631261  0.         -1.24034735]\n"
     ]
    }
   ],
   "source": [
    "print(z_score)"
   ]
  },
  {
   "cell_type": "code",
   "execution_count": null,
   "id": "a4d50878",
   "metadata": {},
   "outputs": [],
   "source": [
    "import math as m\n",
    "## Setup 1\n",
    "a = [1, 2, 3, 4, 5, 6, 7, 8, 9, 10]"
   ]
  },
  {
   "cell_type": "code",
   "execution_count": null,
   "id": "09ac5bc8",
   "metadata": {},
   "outputs": [],
   "source": [
    "import numpy as np"
   ]
  },
  {
   "cell_type": "code",
   "execution_count": null,
   "id": "61fd8b6a",
   "metadata": {},
   "outputs": [],
   "source": [
    "a = np.array([1, 2, 3, 4, 5, 6, 7, 8, 9, 10])"
   ]
  },
  {
   "cell_type": "code",
   "execution_count": null,
   "id": "7f9b5e34",
   "metadata": {},
   "outputs": [],
   "source": [
    "# Use python's built in functionality/operators to determine the following:\n",
    "# Exercise 1 - Make a variable called sum_of_a to hold the sum of all the numbers in above list\n",
    "\n",
    "sum_1 = a[0]+ a[1]\n",
    "sum_2 = a[2] + a[3]\n",
    "sum_3 = a[4] + a[5]\n",
    "sum_4 = a[6] + a[7]\n",
    "sum_5 = a[8] + a[9]\n",
    "sum_of_a = sum_1 + sum_2 + sum_3 + sum_4 + sum_5 \n",
    "print(sum_of_a)# sum of a"
   ]
  },
  {
   "cell_type": "code",
   "execution_count": null,
   "id": "84fe00c2",
   "metadata": {},
   "outputs": [],
   "source": [
    "# Exercise 2 - Make a variable named min_of_a to hold the minimum of all the numbers in the above list\n",
    "min_of_a = a[0]\n",
    "print(min_of_a)"
   ]
  },
  {
   "cell_type": "code",
   "execution_count": null,
   "id": "37d282f8",
   "metadata": {},
   "outputs": [],
   "source": [
    "# Exercise 3 - Make a variable named max_of_a to hold the max number of all the numbers in the above list\n",
    "max_of_a = a[-1]\n",
    "print(max_of_a)"
   ]
  },
  {
   "cell_type": "code",
   "execution_count": null,
   "id": "2f90b801",
   "metadata": {},
   "outputs": [],
   "source": [
    "# Exercise 4 - Make a variable named mean_of_a to hold the average of all the numbers in the above list\n",
    "mean_of_a = sum_of_a/len(a)\n",
    "print(mean_of_a)"
   ]
  },
  {
   "cell_type": "code",
   "execution_count": null,
   "id": "f2cd1188",
   "metadata": {},
   "outputs": [],
   "source": [
    "# Exercise 5 - Make a variable named product_of_a to hold the product of multiplying all the numbers in the above list together\n",
    "p_1 = a[0] * a[1]\n",
    "p_2 = a[2] * a[3]\n",
    "p_3 = a[4] * a[5]\n",
    "p_4 = a[6] * a[7]\n",
    "p_5 = a[8] * a[9]\n",
    "product_of_a = p_1 * p_2 * p_3 * p_4 * p_5 \n",
    "        \n",
    "print(product_of_a)"
   ]
  },
  {
   "cell_type": "code",
   "execution_count": null,
   "id": "70945457",
   "metadata": {},
   "outputs": [],
   "source": [
    "# Exercise 6 - Make a variable named squares_of_a. It should hold each number in a squared like [1, 4, 9, 16, 25...]\n",
    "squares_of_a = np.square(a)"
   ]
  },
  {
   "cell_type": "code",
   "execution_count": null,
   "id": "b50d3184",
   "metadata": {},
   "outputs": [],
   "source": [
    "print(squares_of_a)"
   ]
  },
  {
   "cell_type": "code",
   "execution_count": null,
   "id": "3cbf57fd",
   "metadata": {},
   "outputs": [],
   "source": [
    "odds_in_a =a[a % 2 !=0]\n",
    "odds_in_a"
   ]
  },
  {
   "cell_type": "code",
   "execution_count": null,
   "id": "43c03403",
   "metadata": {},
   "outputs": [],
   "source": [
    "evens_in_a = a[a % 2 ==0]\n",
    "evens_in_a"
   ]
  },
  {
   "cell_type": "code",
   "execution_count": null,
   "id": "7aada852",
   "metadata": {},
   "outputs": [],
   "source": [
    "b = np.array([[3, 4, 5], [6, 7, 8]])"
   ]
  },
  {
   "cell_type": "code",
   "execution_count": null,
   "id": "abf6ffc2",
   "metadata": {},
   "outputs": [],
   "source": [
    "sum_of_b = b.sum()\n",
    "sum_of_b"
   ]
  },
  {
   "cell_type": "code",
   "execution_count": null,
   "id": "bcd28b00",
   "metadata": {},
   "outputs": [],
   "source": [
    "min_of_b = b.min()\n",
    "min_of_b"
   ]
  },
  {
   "cell_type": "code",
   "execution_count": null,
   "id": "bbe65b60",
   "metadata": {},
   "outputs": [],
   "source": [
    "mean_of_b = b.mean()\n",
    "mean_of_b"
   ]
  },
  {
   "cell_type": "code",
   "execution_count": null,
   "id": "f5fa24b8",
   "metadata": {},
   "outputs": [],
   "source": [
    "prod_of_b = np.prod(b)\n",
    "prod_of_b"
   ]
  },
  {
   "cell_type": "code",
   "execution_count": null,
   "id": "81bca0b9",
   "metadata": {},
   "outputs": [],
   "source": [
    "square_of_b = np.square(b)\n",
    "square_of_b"
   ]
  },
  {
   "cell_type": "code",
   "execution_count": null,
   "id": "d67919c4",
   "metadata": {},
   "outputs": [],
   "source": [
    "odds_in_b = b[b % 2 !=0]\n",
    "odds_in_b"
   ]
  },
  {
   "cell_type": "code",
   "execution_count": null,
   "id": "32ab6340",
   "metadata": {},
   "outputs": [],
   "source": [
    "evens_in_b = b[b % 2 == 0]\n",
    "evens_in_b"
   ]
  },
  {
   "cell_type": "code",
   "execution_count": null,
   "id": "74a7af95",
   "metadata": {},
   "outputs": [],
   "source": [
    "print(b)\n",
    "print(b.shape)"
   ]
  },
  {
   "cell_type": "code",
   "execution_count": null,
   "id": "310052a5",
   "metadata": {},
   "outputs": [],
   "source": [
    "np.reshape(b, (6,1))"
   ]
  },
  {
   "cell_type": "code",
   "execution_count": null,
   "id": "887c4755",
   "metadata": {},
   "outputs": [],
   "source": [
    "np.reshape(b, (6,-1))"
   ]
  },
  {
   "cell_type": "code",
   "execution_count": null,
   "id": "9330f36a",
   "metadata": {},
   "outputs": [],
   "source": [
    "c = [[1, 2, 3], [4, 5, 6], [7, 8, 9]]"
   ]
  },
  {
   "cell_type": "code",
   "execution_count": null,
   "id": "e60df64d",
   "metadata": {},
   "outputs": [],
   "source": [
    "c = np.array([[1, 2, 3], [4, 5, 6], [7, 8, 9]])"
   ]
  },
  {
   "cell_type": "code",
   "execution_count": null,
   "id": "d53eb622",
   "metadata": {},
   "outputs": [],
   "source": [
    "c.min()"
   ]
  },
  {
   "cell_type": "code",
   "execution_count": null,
   "id": "707eb6ae",
   "metadata": {},
   "outputs": [],
   "source": [
    "c.max()"
   ]
  },
  {
   "cell_type": "code",
   "execution_count": null,
   "id": "e3f73c4c",
   "metadata": {},
   "outputs": [],
   "source": [
    "c.sum()\n"
   ]
  },
  {
   "cell_type": "code",
   "execution_count": null,
   "id": "bff6bc42",
   "metadata": {},
   "outputs": [],
   "source": [
    "np.prod(c)"
   ]
  },
  {
   "cell_type": "code",
   "execution_count": null,
   "id": "724cc921",
   "metadata": {},
   "outputs": [],
   "source": [
    "c.min(), c.max(), c.sum(), np.prod(c)"
   ]
  },
  {
   "cell_type": "code",
   "execution_count": null,
   "id": "c132d934",
   "metadata": {},
   "outputs": [],
   "source": [
    "np.std(c)"
   ]
  },
  {
   "cell_type": "code",
   "execution_count": null,
   "id": "c16ca071",
   "metadata": {},
   "outputs": [],
   "source": [
    "np.var(c)"
   ]
  },
  {
   "cell_type": "code",
   "execution_count": null,
   "id": "31300385",
   "metadata": {},
   "outputs": [],
   "source": [
    "print(c.shape)"
   ]
  },
  {
   "cell_type": "code",
   "execution_count": null,
   "id": "26d67b03",
   "metadata": {},
   "outputs": [],
   "source": [
    "transposed_results = np.transpose(c)\n",
    "transposed_results"
   ]
  },
  {
   "cell_type": "code",
   "execution_count": null,
   "id": "68fc85bb",
   "metadata": {},
   "outputs": [],
   "source": [
    "print(transposed_results.shape)"
   ]
  },
  {
   "cell_type": "code",
   "execution_count": null,
   "id": "c7b47ad2",
   "metadata": {},
   "outputs": [],
   "source": [
    "np.dot(c,c)"
   ]
  },
  {
   "cell_type": "code",
   "execution_count": null,
   "id": "b4dfa212",
   "metadata": {},
   "outputs": [],
   "source": [
    "(c*c.transpose().prod())"
   ]
  },
  {
   "cell_type": "code",
   "execution_count": null,
   "id": "2cec99d7",
   "metadata": {},
   "outputs": [],
   "source": [
    "d = [[90, 30, 45, 0, 120, 180],\n",
    "    [45, -90, -30, 270, 90, 0],\n",
    "    [60, 45, -45, 90, -45, 180]]"
   ]
  },
  {
   "cell_type": "code",
   "execution_count": null,
   "id": "02aafe9b",
   "metadata": {},
   "outputs": [],
   "source": [
    "d = np.array(d)"
   ]
  },
  {
   "cell_type": "code",
   "execution_count": null,
   "id": "c0f06f42",
   "metadata": {},
   "outputs": [],
   "source": [
    "np.sin(d)"
   ]
  },
  {
   "cell_type": "code",
   "execution_count": null,
   "id": "4a6977a3",
   "metadata": {},
   "outputs": [],
   "source": [
    "np.cos(d)"
   ]
  },
  {
   "cell_type": "code",
   "execution_count": null,
   "id": "1992c21f",
   "metadata": {},
   "outputs": [],
   "source": [
    "np.tan(d)"
   ]
  },
  {
   "cell_type": "code",
   "execution_count": null,
   "id": "eb674177",
   "metadata": {},
   "outputs": [],
   "source": [
    "d[d<0]"
   ]
  },
  {
   "cell_type": "code",
   "execution_count": null,
   "id": "7ca27854",
   "metadata": {},
   "outputs": [],
   "source": [
    "d[d>0]"
   ]
  },
  {
   "cell_type": "code",
   "execution_count": null,
   "id": "d0085553",
   "metadata": {},
   "outputs": [],
   "source": [
    "np.unique(d).shape[0]"
   ]
  },
  {
   "cell_type": "code",
   "execution_count": null,
   "id": "547803ab",
   "metadata": {},
   "outputs": [],
   "source": [
    "print(d.shape)"
   ]
  },
  {
   "cell_type": "code",
   "execution_count": null,
   "id": "0de48f77",
   "metadata": {},
   "outputs": [],
   "source": [
    "transpose_d = np.transpose(d)\n",
    "transpose_d"
   ]
  },
  {
   "cell_type": "code",
   "execution_count": null,
   "id": "def98c6f",
   "metadata": {},
   "outputs": [],
   "source": [
    "print(transpose_d.shape)"
   ]
  },
  {
   "cell_type": "code",
   "execution_count": null,
   "id": "e329127a",
   "metadata": {},
   "outputs": [],
   "source": [
    "np.reshape(d, (9,2))"
   ]
  },
  {
   "cell_type": "code",
   "execution_count": null,
   "id": "c14abd07",
   "metadata": {},
   "outputs": [],
   "source": []
  }
 ],
 "metadata": {
  "kernelspec": {
   "display_name": "Python 3 (ipykernel)",
   "language": "python",
   "name": "python3"
  },
  "language_info": {
   "codemirror_mode": {
    "name": "ipython",
    "version": 3
   },
   "file_extension": ".py",
   "mimetype": "text/x-python",
   "name": "python",
   "nbconvert_exporter": "python",
   "pygments_lexer": "ipython3",
   "version": "3.9.13"
  }
 },
 "nbformat": 4,
 "nbformat_minor": 5
}
