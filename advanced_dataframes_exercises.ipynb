{
 "cells": [
  {
   "cell_type": "code",
   "execution_count": 15,
   "id": "1d7ab74f",
   "metadata": {},
   "outputs": [],
   "source": [
    "from pydataset import data\n",
    "import pandas as pd\n",
    "import numpy as np\n",
    "import os\n",
    "from env import host, username, password"
   ]
  },
  {
   "cell_type": "markdown",
   "id": "d99c7cbd",
   "metadata": {},
   "source": [
    "## Part I Below"
   ]
  },
  {
   "cell_type": "code",
   "execution_count": 16,
   "id": "74e60553",
   "metadata": {},
   "outputs": [],
   "source": [
    "#db_url_function\n",
    "def get_db_url(db, env_file=os.path.exists('env.py')):\n",
    "    '''\n",
    "    return a formatted string containing username, password,\n",
    "    host and database for connecting to the mySQL server and \n",
    "    the database indicated.\n",
    "    env_file checks to see if the env.py exists in cwd\n",
    "    \n",
    "    '''\n",
    "    if env_file:\n",
    "        username, password, host = (env.username, env.password, env.host)\n",
    "        return f'mysql+pymysql://{username}:{password}@{host}/{db}'\n",
    "    else:\n",
    "        return 'hello, you need a username and password to get in!'"
   ]
  },
  {
   "cell_type": "code",
   "execution_count": 19,
   "id": "3ca5ac81",
   "metadata": {},
   "outputs": [],
   "source": [
    "def get_db_url(host, username, password, database):\n",
    "    \n",
    "    return f'mysql+pymysql://{username}:{password}@{host}/{database}'"
   ]
  },
  {
   "cell_type": "code",
   "execution_count": 4,
   "id": "28b5608f",
   "metadata": {},
   "outputs": [],
   "source": [
    "query = 'SELECT * FROM employees LIMIT 10'"
   ]
  },
  {
   "cell_type": "code",
   "execution_count": 5,
   "id": "e76220ee",
   "metadata": {},
   "outputs": [
    {
     "data": {
      "text/html": [
       "<div>\n",
       "<style scoped>\n",
       "    .dataframe tbody tr th:only-of-type {\n",
       "        vertical-align: middle;\n",
       "    }\n",
       "\n",
       "    .dataframe tbody tr th {\n",
       "        vertical-align: top;\n",
       "    }\n",
       "\n",
       "    .dataframe thead th {\n",
       "        text-align: right;\n",
       "    }\n",
       "</style>\n",
       "<table border=\"1\" class=\"dataframe\">\n",
       "  <thead>\n",
       "    <tr style=\"text-align: right;\">\n",
       "      <th></th>\n",
       "      <th>emp_no</th>\n",
       "      <th>birth_date</th>\n",
       "      <th>first_name</th>\n",
       "      <th>last_name</th>\n",
       "      <th>gender</th>\n",
       "      <th>hire_date</th>\n",
       "    </tr>\n",
       "  </thead>\n",
       "  <tbody>\n",
       "    <tr>\n",
       "      <th>0</th>\n",
       "      <td>10001</td>\n",
       "      <td>1953-09-02</td>\n",
       "      <td>Georgi</td>\n",
       "      <td>Facello</td>\n",
       "      <td>M</td>\n",
       "      <td>1986-06-26</td>\n",
       "    </tr>\n",
       "    <tr>\n",
       "      <th>1</th>\n",
       "      <td>10002</td>\n",
       "      <td>1964-06-02</td>\n",
       "      <td>Bezalel</td>\n",
       "      <td>Simmel</td>\n",
       "      <td>F</td>\n",
       "      <td>1985-11-21</td>\n",
       "    </tr>\n",
       "    <tr>\n",
       "      <th>2</th>\n",
       "      <td>10003</td>\n",
       "      <td>1959-12-03</td>\n",
       "      <td>Parto</td>\n",
       "      <td>Bamford</td>\n",
       "      <td>M</td>\n",
       "      <td>1986-08-28</td>\n",
       "    </tr>\n",
       "    <tr>\n",
       "      <th>3</th>\n",
       "      <td>10004</td>\n",
       "      <td>1954-05-01</td>\n",
       "      <td>Chirstian</td>\n",
       "      <td>Koblick</td>\n",
       "      <td>M</td>\n",
       "      <td>1986-12-01</td>\n",
       "    </tr>\n",
       "    <tr>\n",
       "      <th>4</th>\n",
       "      <td>10005</td>\n",
       "      <td>1955-01-21</td>\n",
       "      <td>Kyoichi</td>\n",
       "      <td>Maliniak</td>\n",
       "      <td>M</td>\n",
       "      <td>1989-09-12</td>\n",
       "    </tr>\n",
       "  </tbody>\n",
       "</table>\n",
       "</div>"
      ],
      "text/plain": [
       "   emp_no  birth_date first_name last_name gender   hire_date\n",
       "0   10001  1953-09-02     Georgi   Facello      M  1986-06-26\n",
       "1   10002  1964-06-02    Bezalel    Simmel      F  1985-11-21\n",
       "2   10003  1959-12-03      Parto   Bamford      M  1986-08-28\n",
       "3   10004  1954-05-01  Chirstian   Koblick      M  1986-12-01\n",
       "4   10005  1955-01-21    Kyoichi  Maliniak      M  1989-09-12"
      ]
     },
     "execution_count": 5,
     "metadata": {},
     "output_type": "execute_result"
    }
   ],
   "source": [
    "#employees database\n",
    "employees_df = pd.read_sql(query, url)\n",
    "employees_df.head()"
   ]
  },
  {
   "cell_type": "markdown",
   "id": "8ffb5c0d",
   "metadata": {},
   "source": [
    "#### Database Typos"
   ]
  },
  {
   "cell_type": "code",
   "execution_count": 6,
   "id": "5142ef74",
   "metadata": {},
   "outputs": [],
   "source": [
    "#db_url_function typos\n",
    "def get_db_url(db, env_file=os.path.exists('env.py')):\n",
    "    '''\n",
    "    return a formatted string containing username, password,\n",
    "    host and database for connecting to the mySQL server and \n",
    "    the database indicated.\n",
    "    env_file checks to see if the env.py exists in cwd\n",
    "    \n",
    "    '''\n",
    "    if env_file:\n",
    "        usernames, password, host = (env.username, env.password, env.host)\n",
    "        return f'mysql+pymysql://{username}:{password}@{host}/{db}'\n",
    "    else:\n",
    "        return 'hello, you need a username and password to get in!'\n",
    "\n"
   ]
  },
  {
   "cell_type": "markdown",
   "id": "5ea2ccf9",
   "metadata": {},
   "source": [
    "// The error is \"usernames\" instead of \"username\""
   ]
  },
  {
   "cell_type": "code",
   "execution_count": 7,
   "id": "5ff3f1e3",
   "metadata": {},
   "outputs": [],
   "source": [
    "#db_url_function typos\n",
    "def get_db_url(db, env_file=os.path.exists('env.py')):\n",
    "    '''\n",
    "    return a formatted string containing username, password,\n",
    "    host and database for connecting to the mySQL server and \n",
    "    the database indicated.\n",
    "    env_file checks to see if the env.py exists in cwd\n",
    "    \n",
    "    '''\n",
    "    if env_file:\n",
    "        usernames, password, host = (env.username, env.password, env.host)\n",
    "        return f'mysql+pymysql://{noether_12}:{password}@{host}/{db}'\n",
    "    else:\n",
    "        return 'hello, you need a username and password to get in!'\n",
    "\n"
   ]
  },
  {
   "cell_type": "markdown",
   "id": "d63cb3e1",
   "metadata": {},
   "source": [
    "//Replaced {username} with {noether_1234}"
   ]
  },
  {
   "cell_type": "code",
   "execution_count": 8,
   "id": "2b70cd42",
   "metadata": {},
   "outputs": [
    {
     "ename": "NameError",
     "evalue": "name 'noether_12' is not defined",
     "output_type": "error",
     "traceback": [
      "\u001b[0;31m---------------------------------------------------------------------------\u001b[0m",
      "\u001b[0;31mNameError\u001b[0m                                 Traceback (most recent call last)",
      "Input \u001b[0;32mIn [8]\u001b[0m, in \u001b[0;36m<cell line: 1>\u001b[0;34m()\u001b[0m\n\u001b[0;32m----> 1\u001b[0m url\u001b[38;5;241m=\u001b[39m\u001b[43mget_db_url\u001b[49m\u001b[43m(\u001b[49m\u001b[38;5;124;43m'\u001b[39;49m\u001b[38;5;124;43memployees\u001b[39;49m\u001b[38;5;124;43m'\u001b[39;49m\u001b[43m)\u001b[49m\n",
      "Input \u001b[0;32mIn [7]\u001b[0m, in \u001b[0;36mget_db_url\u001b[0;34m(db, env_file)\u001b[0m\n\u001b[1;32m     10\u001b[0m \u001b[38;5;28;01mif\u001b[39;00m env_file:\n\u001b[1;32m     11\u001b[0m     usernames, password, host \u001b[38;5;241m=\u001b[39m (env\u001b[38;5;241m.\u001b[39musername, env\u001b[38;5;241m.\u001b[39mpassword, env\u001b[38;5;241m.\u001b[39mhost)\n\u001b[0;32m---> 12\u001b[0m     \u001b[38;5;28;01mreturn\u001b[39;00m \u001b[38;5;124mf\u001b[39m\u001b[38;5;124m'\u001b[39m\u001b[38;5;124mmysql+pymysql://\u001b[39m\u001b[38;5;132;01m{\u001b[39;00mnoether_12\u001b[38;5;132;01m}\u001b[39;00m\u001b[38;5;124m:\u001b[39m\u001b[38;5;132;01m{\u001b[39;00mpassword\u001b[38;5;132;01m}\u001b[39;00m\u001b[38;5;124m@\u001b[39m\u001b[38;5;132;01m{\u001b[39;00mhost\u001b[38;5;132;01m}\u001b[39;00m\u001b[38;5;124m/\u001b[39m\u001b[38;5;132;01m{\u001b[39;00mdb\u001b[38;5;132;01m}\u001b[39;00m\u001b[38;5;124m'\u001b[39m\n\u001b[1;32m     13\u001b[0m \u001b[38;5;28;01melse\u001b[39;00m:\n\u001b[1;32m     14\u001b[0m     \u001b[38;5;28;01mreturn\u001b[39;00m \u001b[38;5;124m'\u001b[39m\u001b[38;5;124mhello, you need a username and password to get in!\u001b[39m\u001b[38;5;124m'\u001b[39m\n",
      "\u001b[0;31mNameError\u001b[0m: name 'noether_12' is not defined"
     ]
    }
   ],
   "source": [
    "url=get_db_url('employees')"
   ]
  },
  {
   "cell_type": "markdown",
   "id": "554ace6c",
   "metadata": {},
   "source": [
    "//Error messaged occured due to incorrect formating"
   ]
  },
  {
   "cell_type": "markdown",
   "id": "0a696672",
   "metadata": {},
   "source": [
    "### Two seperate DataFrames"
   ]
  },
  {
   "cell_type": "code",
   "execution_count": null,
   "id": "9000377a",
   "metadata": {},
   "outputs": [],
   "source": [
    "query = 'SELECT * FROM employees'"
   ]
  },
  {
   "cell_type": "code",
   "execution_count": null,
   "id": "20c4b51c",
   "metadata": {},
   "outputs": [],
   "source": [
    "#employees database\n",
    "employees_df = pd.read_sql(query, url)\n",
    "employees_df.head()"
   ]
  },
  {
   "cell_type": "code",
   "execution_count": null,
   "id": "965fa1cb",
   "metadata": {},
   "outputs": [],
   "source": [
    "query = '''\n",
    "SELECT * \n",
    "FROM titles\n",
    "'''"
   ]
  },
  {
   "cell_type": "code",
   "execution_count": null,
   "id": "81532135",
   "metadata": {},
   "outputs": [],
   "source": [
    "#titles database\n",
    "titles_df = pd.read_sql(query, url)\n",
    "titles_df.head()"
   ]
  },
  {
   "cell_type": "markdown",
   "id": "c1d22a18",
   "metadata": {},
   "source": [
    "#### How many rows and columns do you have in each DataFrame? Is that what you expected?"
   ]
  },
  {
   "cell_type": "code",
   "execution_count": null,
   "id": "a0b7a33c",
   "metadata": {},
   "outputs": [],
   "source": [
    "employees_df.info()"
   ]
  },
  {
   "cell_type": "code",
   "execution_count": null,
   "id": "ac4984b3",
   "metadata": {},
   "outputs": [],
   "source": [
    "titles_df.info()"
   ]
  },
  {
   "cell_type": "markdown",
   "id": "46996f19",
   "metadata": {},
   "source": [
    "//There are 30024 rows and 6 columns in employees. \n",
    "\n",
    "//There are 443308 rows and 4 columns in titles.\n",
    "\n",
    "// Yes"
   ]
  },
  {
   "cell_type": "markdown",
   "id": "29562924",
   "metadata": {},
   "source": [
    "### Summary statistics"
   ]
  },
  {
   "cell_type": "code",
   "execution_count": null,
   "id": "cf57b3ec",
   "metadata": {},
   "outputs": [],
   "source": [
    "employees_df.describe()"
   ]
  },
  {
   "cell_type": "code",
   "execution_count": null,
   "id": "7a8ecf6d",
   "metadata": {},
   "outputs": [],
   "source": [
    "titles_df.describe()"
   ]
  },
  {
   "cell_type": "markdown",
   "id": "428d1884",
   "metadata": {},
   "source": [
    "#### Unique Titles in Titles DataFrame."
   ]
  },
  {
   "cell_type": "code",
   "execution_count": null,
   "id": "278d873a",
   "metadata": {},
   "outputs": [],
   "source": [
    "titles_df.nunique().nsmallest(1)"
   ]
  },
  {
   "cell_type": "code",
   "execution_count": null,
   "id": "fe59fb17",
   "metadata": {},
   "outputs": [],
   "source": [
    "query = '''\n",
    "SELECT to_date \n",
    "FROM titles\n",
    "ORDER BY to_date ASC\n",
    "limit 1;\n",
    "'''"
   ]
  },
  {
   "cell_type": "code",
   "execution_count": null,
   "id": "4c3798c7",
   "metadata": {},
   "outputs": [],
   "source": [
    "titles_df = pd.read_sql(query, url)"
   ]
  },
  {
   "cell_type": "code",
   "execution_count": null,
   "id": "17d146b1",
   "metadata": {},
   "outputs": [],
   "source": [
    "titles_df"
   ]
  },
  {
   "cell_type": "markdown",
   "id": "bd9f9804",
   "metadata": {},
   "source": [
    "// 1985-03-01 is the oldest date. "
   ]
  },
  {
   "cell_type": "code",
   "execution_count": null,
   "id": "5e37ffca",
   "metadata": {},
   "outputs": [],
   "source": [
    "query = '''\n",
    "SELECT to_date \n",
    "FROM titles\n",
    "WHERE to_date <= CURDATE()\n",
    "ORDER BY to_date DESC\n",
    "limit 1;\n",
    "'''"
   ]
  },
  {
   "cell_type": "code",
   "execution_count": null,
   "id": "59c6fd8a",
   "metadata": {},
   "outputs": [],
   "source": [
    "titles_df = pd.read_sql(query, url)"
   ]
  },
  {
   "cell_type": "code",
   "execution_count": null,
   "id": "b9a93f09",
   "metadata": {},
   "outputs": [],
   "source": [
    "titles_df"
   ]
  },
  {
   "cell_type": "markdown",
   "id": "f9cd4869",
   "metadata": {},
   "source": [
    "// The most recent date is 2002-08-01."
   ]
  },
  {
   "cell_type": "markdown",
   "id": "77a665e3",
   "metadata": {},
   "source": [
    "## Conclusion of Part I"
   ]
  },
  {
   "cell_type": "markdown",
   "id": "24c1c33d",
   "metadata": {},
   "source": [
    "# Part II Below"
   ]
  },
  {
   "cell_type": "code",
   "execution_count": null,
   "id": "e5178f0f",
   "metadata": {},
   "outputs": [],
   "source": [
    "# Create the users DataFrame.\n",
    "\n",
    "users = pd.DataFrame({\n",
    "    'id': [1, 2, 3, 4, 5, 6],\n",
    "    'name': ['bob', 'joe', 'sally', 'adam', 'jane', 'mike'],\n",
    "    'role_id': [1, 2, 3, 3, np.nan, np.nan]\n",
    "})\n",
    "users\n"
   ]
  },
  {
   "cell_type": "code",
   "execution_count": null,
   "id": "027c95f3",
   "metadata": {},
   "outputs": [],
   "source": [
    "# Create the roles DataFrame\n",
    "\n",
    "roles = pd.DataFrame({\n",
    "    'id': [1, 2, 3, 4],\n",
    "    'name': ['admin', 'author', 'reviewer', 'commenter']\n",
    "})\n",
    "roles\n"
   ]
  },
  {
   "cell_type": "code",
   "execution_count": null,
   "id": "8a514807",
   "metadata": {},
   "outputs": [],
   "source": [
    "(users.merge(roles,                  #Right Join\n",
    "            left_on='role_id', \n",
    "            right_on='id', \n",
    "            how='right', \n",
    "            indicator=True\n",
    "            )\n",
    ")"
   ]
  },
  {
   "cell_type": "code",
   "execution_count": null,
   "id": "b1d563bc",
   "metadata": {},
   "outputs": [],
   "source": [
    "(users.merge(roles,                  #Outer Join\n",
    "            left_on='role_id', \n",
    "            right_on='id', \n",
    "            how='outer', \n",
    "            indicator=True\n",
    "            )\n",
    ")"
   ]
  },
  {
   "cell_type": "code",
   "execution_count": null,
   "id": "cbc8e0d2",
   "metadata": {},
   "outputs": [],
   "source": [
    "(users.merge(roles,                  #dropped foreign keys\n",
    "            left_on='role_id', \n",
    "            right_on='id', \n",
    "            how='outer')\n",
    "            )"
   ]
  },
  {
   "cell_type": "code",
   "execution_count": null,
   "id": "cc5173e8",
   "metadata": {},
   "outputs": [],
   "source": [
    "users.drop(columns=['id'], inplace=True)"
   ]
  },
  {
   "cell_type": "code",
   "execution_count": null,
   "id": "e69e5f4f",
   "metadata": {},
   "outputs": [],
   "source": [
    "users"
   ]
  },
  {
   "cell_type": "markdown",
   "id": "82a927ce",
   "metadata": {},
   "source": [
    "#### MPG Dataset"
   ]
  },
  {
   "cell_type": "code",
   "execution_count": null,
   "id": "a3e5a8d8",
   "metadata": {},
   "outputs": [],
   "source": [
    "mpg = data('mpg')\n"
   ]
  },
  {
   "cell_type": "code",
   "execution_count": null,
   "id": "0ac7242f",
   "metadata": {},
   "outputs": [],
   "source": [
    "mpg.shape"
   ]
  },
  {
   "cell_type": "code",
   "execution_count": null,
   "id": "23a3652d",
   "metadata": {},
   "outputs": [],
   "source": [
    "mpg.groupby('manufacturer').describe().T"
   ]
  },
  {
   "cell_type": "code",
   "execution_count": null,
   "id": "024fdc14",
   "metadata": {},
   "outputs": [],
   "source": [
    "mpg.nunique(axis=0).head(1) #15 manufacturers"
   ]
  },
  {
   "cell_type": "code",
   "execution_count": null,
   "id": "34b40795",
   "metadata": {
    "scrolled": true
   },
   "outputs": [],
   "source": [
    "mpg_unique = mpg.nunique()  #38 models\n",
    "mpg_unique['model']"
   ]
  },
  {
   "cell_type": "code",
   "execution_count": null,
   "id": "b351fd2a",
   "metadata": {
    "scrolled": false
   },
   "outputs": [],
   "source": [
    "mpg.assign(mileage_difference = mpg.hwy-mpg.cty)       #mileage_difference"
   ]
  },
  {
   "cell_type": "code",
   "execution_count": null,
   "id": "1871685b",
   "metadata": {},
   "outputs": [],
   "source": [
    "mpg.assign(average_mileage = (mpg.hwy+mpg.cty)/2)    #Average_mileage"
   ]
  },
  {
   "cell_type": "code",
   "execution_count": null,
   "id": "cace56c9",
   "metadata": {},
   "outputs": [],
   "source": [
    "mpg['trans'].unique()"
   ]
  },
  {
   "cell_type": "code",
   "execution_count": null,
   "id": "bca21c02",
   "metadata": {},
   "outputs": [],
   "source": [
    "mpg['is_automatic']=mpg.trans.str.contains('auto')==True"
   ]
  },
  {
   "cell_type": "code",
   "execution_count": null,
   "id": "57002fce",
   "metadata": {},
   "outputs": [],
   "source": [
    "mpg['is_automatic'] = mpg['is_automatic'].replace({True: 'Automatic', False: 'Manual'})"
   ]
  },
  {
   "cell_type": "code",
   "execution_count": null,
   "id": "45e02fca",
   "metadata": {},
   "outputs": [],
   "source": [
    "mpg"
   ]
  },
  {
   "cell_type": "code",
   "execution_count": null,
   "id": "c3d95675",
   "metadata": {},
   "outputs": [],
   "source": [
    "mpg.groupby('manufacturer')['average_mileage'].agg('mean')\n"
   ]
  },
  {
   "cell_type": "code",
   "execution_count": null,
   "id": "d0c2241b",
   "metadata": {},
   "outputs": [],
   "source": [
    "mpg.groupby('manufacturer')['average_mileage'].agg('mean').nlargest(1)\n"
   ]
  },
  {
   "cell_type": "code",
   "execution_count": null,
   "id": "0e5d3def",
   "metadata": {},
   "outputs": [],
   "source": [
    "mpg.groupby('is_automatic')['average_mileage'].agg('mean')"
   ]
  },
  {
   "cell_type": "markdown",
   "id": "fda738de",
   "metadata": {},
   "source": [
    "## Conclusion of Part II"
   ]
  },
  {
   "cell_type": "markdown",
   "id": "d4ac4af9",
   "metadata": {},
   "source": [
    "### Part III Below"
   ]
  },
  {
   "cell_type": "code",
   "execution_count": null,
   "id": "1becc813",
   "metadata": {},
   "outputs": [],
   "source": [
    "def get_db_url(db, env_file=os.path.exists('env.py')):\n",
    "    '''\n",
    "    return a formatted string containing username, password,\n",
    "    host and database for connecting to the mySQL server and \n",
    "    the database indicated.\n",
    "    env_file checks to see if the env.py exists in cwd\n",
    "    \n",
    "    '''\n",
    "    if env_file:\n",
    "        username, password, host = (env.username, env.password, env.host)\n",
    "        return f'mysql+pymysql://{username}:{password}@{host}/{db}'\n",
    "    else:\n",
    "        return 'hello, you need a username and password to get in!'"
   ]
  },
  {
   "cell_type": "code",
   "execution_count": null,
   "id": "a6e66567",
   "metadata": {},
   "outputs": [],
   "source": [
    "url=get_db_url('chipotle')"
   ]
  },
  {
   "cell_type": "code",
   "execution_count": null,
   "id": "7da62c07",
   "metadata": {},
   "outputs": [],
   "source": [
    "query = '''\n",
    "SELECT *\n",
    "FROM orders;\n",
    "'''"
   ]
  },
  {
   "cell_type": "markdown",
   "id": "c92b92d3",
   "metadata": {},
   "source": [
    "### Chipotle database"
   ]
  },
  {
   "cell_type": "code",
   "execution_count": null,
   "id": "483b2403",
   "metadata": {},
   "outputs": [],
   "source": [
    "#chipotle database\n",
    "chipotle_df = pd.read_sql(query, url)"
   ]
  },
  {
   "cell_type": "code",
   "execution_count": null,
   "id": "561ab506",
   "metadata": {},
   "outputs": [],
   "source": [
    "chipotle_df.info()"
   ]
  },
  {
   "cell_type": "code",
   "execution_count": null,
   "id": "54578731",
   "metadata": {},
   "outputs": [],
   "source": [
    "chipotle_df.head()"
   ]
  },
  {
   "cell_type": "code",
   "execution_count": null,
   "id": "ac65476e",
   "metadata": {},
   "outputs": [],
   "source": [
    "chipotle_df.columns"
   ]
  },
  {
   "cell_type": "code",
   "execution_count": null,
   "id": "94c1c8a3",
   "metadata": {},
   "outputs": [],
   "source": [
    "chipotle_df['item_price'] = chipotle_df.item_price.str.replace('$', '').astype(float)"
   ]
  },
  {
   "cell_type": "code",
   "execution_count": null,
   "id": "61dc62a1",
   "metadata": {},
   "outputs": [],
   "source": [
    "chipotle_df"
   ]
  },
  {
   "cell_type": "code",
   "execution_count": null,
   "id": "a41d1201",
   "metadata": {},
   "outputs": [],
   "source": [
    "chipotle_df.groupby('item_name')['id'].count().nlargest(3)"
   ]
  },
  {
   "cell_type": "code",
   "execution_count": null,
   "id": "9932783e",
   "metadata": {},
   "outputs": [],
   "source": [
    "chipotle_df.groupby('item_name')['item_price'].agg('sum').nlargest(1)"
   ]
  },
  {
   "cell_type": "code",
   "execution_count": null,
   "id": "e36950d1",
   "metadata": {},
   "outputs": [],
   "source": [
    "url_e=get_db_url('employees')"
   ]
  },
  {
   "cell_type": "code",
   "execution_count": null,
   "id": "c28229a7",
   "metadata": {},
   "outputs": [],
   "source": [
    "query = '''\n",
    "SELECT *\n",
    "FROM employees;\n",
    "'''"
   ]
  },
  {
   "cell_type": "code",
   "execution_count": null,
   "id": "0ca75876",
   "metadata": {},
   "outputs": [],
   "source": [
    "employees_df = pd.read_sql(query, url_e)"
   ]
  },
  {
   "cell_type": "code",
   "execution_count": null,
   "id": "c5395cce",
   "metadata": {},
   "outputs": [],
   "source": [
    "employees_df.head()"
   ]
  },
  {
   "cell_type": "code",
   "execution_count": null,
   "id": "9a2ad72a",
   "metadata": {},
   "outputs": [],
   "source": [
    "url=get_db_url('employees')"
   ]
  },
  {
   "cell_type": "code",
   "execution_count": null,
   "id": "5dc3e824",
   "metadata": {},
   "outputs": [],
   "source": [
    "query = '''\n",
    "SELECT *\n",
    "FROM titles;\n",
    "'''"
   ]
  },
  {
   "cell_type": "code",
   "execution_count": null,
   "id": "c011eaa5",
   "metadata": {},
   "outputs": [],
   "source": [
    "titles_df = pd.read_sql(query, url)"
   ]
  },
  {
   "cell_type": "code",
   "execution_count": null,
   "id": "10ffecc0",
   "metadata": {},
   "outputs": [],
   "source": [
    "employees_df.merge(titles_df, on='emp_no')"
   ]
  },
  {
   "cell_type": "code",
   "execution_count": null,
   "id": "1a635ddb",
   "metadata": {},
   "outputs": [],
   "source": [
    "emp_title = employees_df.merge(titles_df, on='emp_no')"
   ]
  },
  {
   "cell_type": "code",
   "execution_count": null,
   "id": "b624b324",
   "metadata": {},
   "outputs": [],
   "source": [
    "emp_title"
   ]
  },
  {
   "cell_type": "code",
   "execution_count": null,
   "id": "0a4a1065",
   "metadata": {},
   "outputs": [],
   "source": [
    "emp_title.groupby('title')['from_date'].agg('max')"
   ]
  },
  {
   "cell_type": "code",
   "execution_count": 17,
   "id": "ee2ada20",
   "metadata": {},
   "outputs": [],
   "source": [
    "cross_query = '''\n",
    "SELECT t.title, d.dept_name\n",
    "FROM dept_emp\n",
    "JOIN titles t USING(emp_no)\n",
    "JOIN departments d USING(dept_no)\n",
    "WHERE t.to_date > CURDATE();\n",
    "'''"
   ]
  },
  {
   "cell_type": "code",
   "execution_count": 22,
   "id": "a9f0c249",
   "metadata": {},
   "outputs": [],
   "source": [
    "cross_url = get_db_url(host, username, password, 'employees')"
   ]
  },
  {
   "cell_type": "code",
   "execution_count": 23,
   "id": "c99fca13",
   "metadata": {},
   "outputs": [
    {
     "data": {
      "text/html": [
       "<div>\n",
       "<style scoped>\n",
       "    .dataframe tbody tr th:only-of-type {\n",
       "        vertical-align: middle;\n",
       "    }\n",
       "\n",
       "    .dataframe tbody tr th {\n",
       "        vertical-align: top;\n",
       "    }\n",
       "\n",
       "    .dataframe thead th {\n",
       "        text-align: right;\n",
       "    }\n",
       "</style>\n",
       "<table border=\"1\" class=\"dataframe\">\n",
       "  <thead>\n",
       "    <tr style=\"text-align: right;\">\n",
       "      <th></th>\n",
       "      <th>title</th>\n",
       "      <th>dept_name</th>\n",
       "    </tr>\n",
       "  </thead>\n",
       "  <tbody>\n",
       "    <tr>\n",
       "      <th>0</th>\n",
       "      <td>Senior Engineer</td>\n",
       "      <td>Development</td>\n",
       "    </tr>\n",
       "    <tr>\n",
       "      <th>1</th>\n",
       "      <td>Staff</td>\n",
       "      <td>Sales</td>\n",
       "    </tr>\n",
       "    <tr>\n",
       "      <th>2</th>\n",
       "      <td>Senior Engineer</td>\n",
       "      <td>Production</td>\n",
       "    </tr>\n",
       "    <tr>\n",
       "      <th>3</th>\n",
       "      <td>Senior Engineer</td>\n",
       "      <td>Production</td>\n",
       "    </tr>\n",
       "    <tr>\n",
       "      <th>4</th>\n",
       "      <td>Senior Staff</td>\n",
       "      <td>Human Resources</td>\n",
       "    </tr>\n",
       "  </tbody>\n",
       "</table>\n",
       "</div>"
      ],
      "text/plain": [
       "             title        dept_name\n",
       "0  Senior Engineer      Development\n",
       "1            Staff            Sales\n",
       "2  Senior Engineer       Production\n",
       "3  Senior Engineer       Production\n",
       "4     Senior Staff  Human Resources"
      ]
     },
     "execution_count": 23,
     "metadata": {},
     "output_type": "execute_result"
    }
   ],
   "source": [
    "df_cross = pd.read_sql(cross_query, cross_url)\n",
    "\n",
    "df_cross.head()"
   ]
  },
  {
   "cell_type": "code",
   "execution_count": null,
   "id": "aa0e12aa",
   "metadata": {},
   "outputs": [],
   "source": [
    "df_cross = pd.read_sql(cross_query, cross_url)\n",
    "\n",
    "df_cross.head()"
   ]
  },
  {
   "cell_type": "code",
   "execution_count": 24,
   "id": "1852a14e",
   "metadata": {},
   "outputs": [
    {
     "data": {
      "text/plain": [
       "(265332, 2)"
      ]
     },
     "execution_count": 24,
     "metadata": {},
     "output_type": "execute_result"
    }
   ],
   "source": [
    "df_cross.shape"
   ]
  },
  {
   "cell_type": "code",
   "execution_count": 26,
   "id": "0fa66081",
   "metadata": {},
   "outputs": [
    {
     "data": {
      "text/html": [
       "<div>\n",
       "<style scoped>\n",
       "    .dataframe tbody tr th:only-of-type {\n",
       "        vertical-align: middle;\n",
       "    }\n",
       "\n",
       "    .dataframe tbody tr th {\n",
       "        vertical-align: top;\n",
       "    }\n",
       "\n",
       "    .dataframe thead th {\n",
       "        text-align: right;\n",
       "    }\n",
       "</style>\n",
       "<table border=\"1\" class=\"dataframe\">\n",
       "  <thead>\n",
       "    <tr style=\"text-align: right;\">\n",
       "      <th>title</th>\n",
       "      <th>Assistant Engineer</th>\n",
       "      <th>Engineer</th>\n",
       "      <th>Manager</th>\n",
       "      <th>Senior Engineer</th>\n",
       "      <th>Senior Staff</th>\n",
       "      <th>Staff</th>\n",
       "      <th>Technique Leader</th>\n",
       "    </tr>\n",
       "    <tr>\n",
       "      <th>dept_name</th>\n",
       "      <th></th>\n",
       "      <th></th>\n",
       "      <th></th>\n",
       "      <th></th>\n",
       "      <th></th>\n",
       "      <th></th>\n",
       "      <th></th>\n",
       "    </tr>\n",
       "  </thead>\n",
       "  <tbody>\n",
       "    <tr>\n",
       "      <th>Customer Service</th>\n",
       "      <td>68</td>\n",
       "      <td>627</td>\n",
       "      <td>1</td>\n",
       "      <td>1790</td>\n",
       "      <td>12349</td>\n",
       "      <td>3902</td>\n",
       "      <td>241</td>\n",
       "    </tr>\n",
       "    <tr>\n",
       "      <th>Development</th>\n",
       "      <td>1833</td>\n",
       "      <td>15677</td>\n",
       "      <td>1</td>\n",
       "      <td>43364</td>\n",
       "      <td>1085</td>\n",
       "      <td>315</td>\n",
       "      <td>6117</td>\n",
       "    </tr>\n",
       "    <tr>\n",
       "      <th>Finance</th>\n",
       "      <td>0</td>\n",
       "      <td>0</td>\n",
       "      <td>1</td>\n",
       "      <td>0</td>\n",
       "      <td>10650</td>\n",
       "      <td>3199</td>\n",
       "      <td>0</td>\n",
       "    </tr>\n",
       "    <tr>\n",
       "      <th>Human Resources</th>\n",
       "      <td>0</td>\n",
       "      <td>0</td>\n",
       "      <td>1</td>\n",
       "      <td>0</td>\n",
       "      <td>10843</td>\n",
       "      <td>3416</td>\n",
       "      <td>0</td>\n",
       "    </tr>\n",
       "    <tr>\n",
       "      <th>Marketing</th>\n",
       "      <td>0</td>\n",
       "      <td>0</td>\n",
       "      <td>1</td>\n",
       "      <td>0</td>\n",
       "      <td>12371</td>\n",
       "      <td>3880</td>\n",
       "      <td>0</td>\n",
       "    </tr>\n",
       "    <tr>\n",
       "      <th>Production</th>\n",
       "      <td>1542</td>\n",
       "      <td>13325</td>\n",
       "      <td>1</td>\n",
       "      <td>37156</td>\n",
       "      <td>1123</td>\n",
       "      <td>349</td>\n",
       "      <td>5210</td>\n",
       "    </tr>\n",
       "    <tr>\n",
       "      <th>Quality Management</th>\n",
       "      <td>433</td>\n",
       "      <td>3744</td>\n",
       "      <td>1</td>\n",
       "      <td>10390</td>\n",
       "      <td>0</td>\n",
       "      <td>0</td>\n",
       "      <td>1422</td>\n",
       "    </tr>\n",
       "    <tr>\n",
       "      <th>Research</th>\n",
       "      <td>77</td>\n",
       "      <td>830</td>\n",
       "      <td>1</td>\n",
       "      <td>2250</td>\n",
       "      <td>10219</td>\n",
       "      <td>3206</td>\n",
       "      <td>321</td>\n",
       "    </tr>\n",
       "    <tr>\n",
       "      <th>Sales</th>\n",
       "      <td>0</td>\n",
       "      <td>0</td>\n",
       "      <td>1</td>\n",
       "      <td>0</td>\n",
       "      <td>32032</td>\n",
       "      <td>9967</td>\n",
       "      <td>0</td>\n",
       "    </tr>\n",
       "  </tbody>\n",
       "</table>\n",
       "</div>"
      ],
      "text/plain": [
       "title               Assistant Engineer  Engineer  Manager  Senior Engineer  \\\n",
       "dept_name                                                                    \n",
       "Customer Service                    68       627        1             1790   \n",
       "Development                       1833     15677        1            43364   \n",
       "Finance                              0         0        1                0   \n",
       "Human Resources                      0         0        1                0   \n",
       "Marketing                            0         0        1                0   \n",
       "Production                        1542     13325        1            37156   \n",
       "Quality Management                 433      3744        1            10390   \n",
       "Research                            77       830        1             2250   \n",
       "Sales                                0         0        1                0   \n",
       "\n",
       "title               Senior Staff  Staff  Technique Leader  \n",
       "dept_name                                                  \n",
       "Customer Service           12349   3902               241  \n",
       "Development                 1085    315              6117  \n",
       "Finance                    10650   3199                 0  \n",
       "Human Resources            10843   3416                 0  \n",
       "Marketing                  12371   3880                 0  \n",
       "Production                  1123    349              5210  \n",
       "Quality Management             0      0              1422  \n",
       "Research                   10219   3206               321  \n",
       "Sales                      32032   9967                 0  "
      ]
     },
     "execution_count": 26,
     "metadata": {},
     "output_type": "execute_result"
    }
   ],
   "source": [
    "pd.crosstab(df_cross['title'], df_cross['dept_name']).T\n"
   ]
  },
  {
   "cell_type": "code",
   "execution_count": null,
   "id": "5be4b178",
   "metadata": {},
   "outputs": [],
   "source": []
  }
 ],
 "metadata": {
  "kernelspec": {
   "display_name": "Python 3 (ipykernel)",
   "language": "python",
   "name": "python3"
  },
  "language_info": {
   "codemirror_mode": {
    "name": "ipython",
    "version": 3
   },
   "file_extension": ".py",
   "mimetype": "text/x-python",
   "name": "python",
   "nbconvert_exporter": "python",
   "pygments_lexer": "ipython3",
   "version": "3.9.13"
  }
 },
 "nbformat": 4,
 "nbformat_minor": 5
}
